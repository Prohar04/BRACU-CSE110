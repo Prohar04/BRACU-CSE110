{
  "nbformat": 4,
  "nbformat_minor": 0,
  "metadata": {
    "colab": {
      "provenance": [],
      "authorship_tag": "ABX9TyMQSqe51F0TjGp7tbs4d/ko",
      "include_colab_link": true
    },
    "kernelspec": {
      "name": "python3",
      "display_name": "Python 3"
    },
    "language_info": {
      "name": "python"
    }
  },
  "cells": [
    {
      "cell_type": "markdown",
      "metadata": {
        "id": "view-in-github",
        "colab_type": "text"
      },
      "source": [
        "<a href=\"https://colab.research.google.com/github/Prohar04/BRACU-CSE110/blob/main/CSE110_Assignment_2.ipynb\" target=\"_parent\"><img src=\"https://colab.research.google.com/assets/colab-badge.svg\" alt=\"Open In Colab\"/></a>"
      ]
    },
    {
      "cell_type": "markdown",
      "source": [
        "Task 1\n",
        "\n",
        "Write the Python code of a program that reads two numbers from the user, and prints their sum, product, and difference.\n",
        "\n",
        "Hint: subtract the second number from the first one\n",
        "\n",
        "Example 1:\n",
        "\n",
        "Sample Input:\n",
        "\n",
        "4\n",
        "\n",
        "5\n",
        "\n",
        "Sample Output:\n",
        "\n",
        "Sum = 9\n",
        "\n",
        "Product = 20\n",
        "\n",
        "Difference = -1\n",
        "\n",
        "Example 2:\n",
        "\n",
        "Sample Input:\n",
        "\n",
        "30\n",
        "\n",
        "2\n",
        "\n",
        "Sample Output:\n",
        "\n",
        "Sum = 32\n",
        "\n",
        "Product = 60\n",
        "\n",
        "Difference = 28\n",
        "\n",
        "\n"
      ],
      "metadata": {
        "id": "9AscESrby1zX"
      }
    },
    {
      "cell_type": "code",
      "source": [
        "#task_01\n",
        "num_1 = int(input(\"Please enter the 1st number: \"))\n",
        "num_2 = int(input(\"Please enter the 2nd number: \"))\n",
        "\n",
        "print(\"Sum =\",(num_1 + num_2))\n",
        "print(\"Product =\",(num_1 * num_2))\n",
        "print(\"Difference =\",(num_1 - num_2))"
      ],
      "metadata": {
        "colab": {
          "base_uri": "https://localhost:8080/"
        },
        "id": "Hgw1nN7WzAye",
        "outputId": "1a0f9df8-21aa-4802-c81b-0bc3ff375111"
      },
      "execution_count": null,
      "outputs": [
        {
          "output_type": "stream",
          "name": "stdout",
          "text": [
            "Please enter the 1st number: 4\n",
            "Please enter the 2nd number: 5\n",
            "Sum = 9\n",
            "Product = 20\n",
            "Difference = -1\n"
          ]
        }
      ]
    },
    {
      "cell_type": "markdown",
      "source": [
        "Task 2\n",
        "\n",
        "Write the Python code of a program that reads the radius of a circle and prints its circumference and area.\n",
        "\n",
        "hint(1): we may import math and then use math.pi for getting the value of pi.\n",
        "\n",
        "For details, we can read from https://docs.python.org/3/library/math.html\n",
        "\n",
        "hint(2): we can import math and use the math function for making squares with math.pow(number, power) or we can simply use the power operator. For example: S**2.\n",
        "\n",
        "Example 1:\n",
        "\n",
        "Sample Input:\n",
        "\n",
        "4\n",
        "Sample Output:\n",
        "\n",
        "Area is 50.26548245743669\n",
        "\n",
        "Circumference is 25.132741228718345\n",
        "\n",
        "Example 2:\n",
        "\n",
        "Sample Input:\n",
        "\n",
        "3.5\n",
        "\n",
        "Sample Output:\n",
        "\n",
        "Area is 38.48451000647496\n",
        "\n",
        "Circumference is 21.991148575128552"
      ],
      "metadata": {
        "id": "ucaifEV4zxcX"
      }
    },
    {
      "cell_type": "code",
      "source": [
        "#task_02\n",
        "import math\n",
        "input_int = int(input(\"Please enter the radius: \"))\n",
        "print(\"Area is\",(math.pi * math.pow(input_int,2)))\n",
        "print(\"Circumference is\",(2 * math.pi * input_int))"
      ],
      "metadata": {
        "colab": {
          "base_uri": "https://localhost:8080/"
        },
        "id": "Be-2e54Oz6ez",
        "outputId": "cb8aecaa-eb20-408f-e0f0-884f97300648"
      },
      "execution_count": null,
      "outputs": [
        {
          "output_type": "stream",
          "name": "stdout",
          "text": [
            "Please enter the radius: 4\n",
            "Area is 50.26548245743669\n",
            "Circumference is 25.132741228718345\n"
          ]
        }
      ]
    },
    {
      "cell_type": "markdown",
      "source": [
        "Task 3\n",
        "\n",
        "Write the Python code of a program that reads two numbers from the user. The program should then print \"First is greater\" if the first number is greater, \"Second is greater\" if the second number is greater, and \"The numbers are equal\" otherwise.\n",
        "\n",
        "Sample Input 1:\n",
        "\n",
        "7\n",
        "\n",
        "3\n",
        "\n",
        "Sample Output 1:\n",
        "\n",
        "First is greater\n",
        "\n",
        "Sample Input 2:\n",
        "\n",
        "-33\n",
        "\n",
        "-3\n",
        "\n",
        "Sample Output 2:\n",
        "\n",
        "Second is greater\n",
        "\n",
        "Sample Input 3:\n",
        "\n",
        "11\n",
        "\n",
        "11\n",
        "\n",
        "Sample Output 1:\n",
        "\n",
        "The numbers are equal\n"
      ],
      "metadata": {
        "id": "Hitsupeo0c5k"
      }
    },
    {
      "cell_type": "code",
      "source": [
        "#task_3\n",
        "num_1=int(input(\"Please enter the the first number: \"))\n",
        "num_2=int(input(\"Please enter the the second number: \"))\n",
        "\n",
        "if num_1>num_2:\n",
        "  print(\"First is greater\")\n",
        "elif num_2>num_1:\n",
        "  print(\"Second is greater\")  \n",
        "else:\n",
        "  print(\"The numbers are equal\")  "
      ],
      "metadata": {
        "colab": {
          "base_uri": "https://localhost:8080/"
        },
        "id": "1cZBp8LS0f5R",
        "outputId": "0c3e6dd7-6c32-4f52-d324-86b99e56d892"
      },
      "execution_count": null,
      "outputs": [
        {
          "output_type": "stream",
          "name": "stdout",
          "text": [
            "Please enter the the first number: 11\n",
            "Please enter the the second number: 11\n",
            "The numbers are equal\n"
          ]
        }
      ]
    },
    {
      "cell_type": "markdown",
      "source": [
        "Task 4\n",
        "\n",
        "Write the Python code of a program that reads two numbers, subtracts the smaller number from the larger one, and prints the result.\n",
        "\n",
        "Hint: First, we may check which number is greater\n",
        "\n",
        "Sample Input 1:\n",
        "\n",
        "-40\n",
        "\n",
        "-4\n",
        "\n",
        "Sample Output 1:\n",
        "\n",
        "36\n",
        "\n",
        "Explanation: -4 > -40 so -4 - (-40) = -4 + 40 = 36\n",
        "\n",
        "Sample Input 2:\n",
        "\n",
        "6\n",
        "\n",
        "2\n",
        "\n",
        "Sample Output 2:\n",
        "\n",
        "4\n",
        "\n",
        "Sample Input 3:\n",
        "\n",
        "5\n",
        "\n",
        "5\n",
        "\n",
        "Sample Output 3:\n",
        "\n",
        "0\n"
      ],
      "metadata": {
        "id": "GSwVW1Eg0zhw"
      }
    },
    {
      "cell_type": "code",
      "source": [
        "#task_04\n",
        "num_1 = int(input(\"Please enter the 1st number: \"))\n",
        "num_2 = int(input(\"Please enter the 2nd number: \"))\n",
        "if num_1 > num_2:\n",
        "  print(num_1-num_2)\n",
        "else:\n",
        "  print(num_2-num_1)  "
      ],
      "metadata": {
        "colab": {
          "base_uri": "https://localhost:8080/"
        },
        "id": "UbsgcbUT09_G",
        "outputId": "3970b48d-3ad9-4a44-cc7d-9c4b4debf784"
      },
      "execution_count": null,
      "outputs": [
        {
          "output_type": "stream",
          "name": "stdout",
          "text": [
            "Please enter the 1st number: -40\n",
            "Please enter the 2nd number: -4\n",
            "36\n"
          ]
        }
      ]
    },
    {
      "cell_type": "markdown",
      "source": [
        "Task 5\n",
        "\n",
        "Write the Python code of a program that reads a number, and prints \"The number is even\" or \"The number is odd\", depending on whether the number is even or odd.\n",
        "\n",
        "hint(1): we may use the modulus (%) operator to check for even or odd\n",
        "\n",
        "hint(2): we can consider the number to be an integer\n",
        "\n",
        "Sample Input 1:\n",
        "\n",
        "7\n",
        "\n",
        "Sample Output 1:\n",
        "\n",
        "The number is odd\n",
        "\n",
        "Sample Input 2:\n",
        "\n",
        "10\n",
        "\n",
        "Sample Output 2:\n",
        "\n",
        "The number is even\n",
        "\n",
        "Sample Input 3:\n",
        "\n",
        "-44\n",
        "\n",
        "Sample Output 3:\n",
        "\n",
        "The number is even\n"
      ],
      "metadata": {
        "id": "vD4Jqsib1anp"
      }
    },
    {
      "cell_type": "code",
      "source": [
        "#task_05\n",
        "input_int = int(input(\"Please enter the number: \"))\n",
        "if input_int%2 == 0:\n",
        "  print(\"The number is even\")\n",
        "else:\n",
        "  print(\"The number is odd\")  "
      ],
      "metadata": {
        "colab": {
          "base_uri": "https://localhost:8080/"
        },
        "id": "mONthIDT1b0a",
        "outputId": "b86fa61d-0687-4b30-b79f-093fef18701b"
      },
      "execution_count": null,
      "outputs": [
        {
          "output_type": "stream",
          "name": "stdout",
          "text": [
            "Please enter the number: 7\n",
            "The number is odd\n"
          ]
        }
      ]
    },
    {
      "cell_type": "markdown",
      "source": [
        "Task 6\n",
        "\n",
        "Write the Python code of a program that reads an integer as input from the user, and prints the integer if it is a multiple of 2 OR 5 and prints \"Not a multiple of 2 OR 5\" otherwise.\n",
        "\n",
        "For example, 2, 4, 5, 6, 8, 10, 12, 14, 15, 16, 18, 20, 22 … i.e. this includes multiples of 2 only, multiples of 5 only and multiples of 2 and 5 both.\n",
        "\n",
        "hint(1): we may use the modulus (%) operator for checking the divisibility\n",
        "\n",
        "hint(2): we can consider the number to be an integer\n",
        "\n",
        "Sample Input 1:\n",
        "\n",
        "5\n",
        "\n",
        "Sample Output 1:\n",
        "\n",
        "5\n",
        "\n",
        "Sample Input 2:\n",
        "\n",
        "10\n",
        "\n",
        "Sample Output 2:\n",
        "\n",
        "10\n",
        "\n",
        "Sample Input 3:\n",
        "\n",
        "3\n",
        "\n",
        "Sample Output 3:\n",
        "\n",
        "Not a multiple of 2 OR 5\n"
      ],
      "metadata": {
        "id": "MbmIq_tS1niI"
      }
    },
    {
      "cell_type": "code",
      "source": [
        "#task_06\n",
        "input_int = int(input(\"Please enter the number: \"))\n",
        "if input_int%2 == 0 or input_int%5 == 0:\n",
        "  print(input_int)\n",
        "else:\n",
        "  print(\"Not a multiple of 2 OR 5\") "
      ],
      "metadata": {
        "colab": {
          "base_uri": "https://localhost:8080/"
        },
        "id": "jUh_T4zs1qm8",
        "outputId": "83b4a2e9-9753-4299-a7b6-a5d5d02832da"
      },
      "execution_count": null,
      "outputs": [
        {
          "output_type": "stream",
          "name": "stdout",
          "text": [
            "Please enter the number: 3\n",
            "Not a multiple of 2 OR 5\n"
          ]
        }
      ]
    },
    {
      "cell_type": "markdown",
      "source": [
        "Task 7\n",
        "\n",
        "Write the Python code of a program that reads an integer, and prints the integer it is a multiple of either 2 or 5 but not both. If the number is a multiple of 2 and 5 both, then print \"Multiple of 2 and 5 both\". For all other numbers, the program prints \"Not a multiple we want\".\n",
        "\n",
        "For example, 2, 4, 5, 6, 8, 12, 14, 15, 16, 18, 22 … i.e. this includes multiples of 2 only and multiples of 5 only, NOT multiples of 2 and 5 both or other numbers. \n",
        "\n",
        "hint(1): we may use the modulus (%) operator for checking the divisibility\n",
        "\n",
        "hint(2): we can consider the number to be an integer\n",
        "\n",
        "Sample Input 1:\n",
        "\n",
        "6\n",
        "\n",
        "Sample Output 1:\n",
        "\n",
        "6\n",
        "\n",
        "Sample Input 2:\n",
        "\n",
        "15\n",
        "\n",
        "Sample Output 2:\n",
        "\n",
        "15\n",
        "\n",
        "Sample Input 3:\n",
        "\n",
        "10\n",
        "Sample Output 3:\n",
        "\n",
        "Multiple of 2 and 5 both\n",
        "\n",
        "Sample Input 4:\n",
        "\n",
        "17\n",
        "\n",
        "Sample Output 4:\n",
        "\n",
        "Not a multiple we want\n"
      ],
      "metadata": {
        "id": "EWCxFXWF1335"
      }
    },
    {
      "cell_type": "code",
      "source": [
        "#task_07\n",
        "input_int = int(input(\"Please enter the number: \"))\n",
        "if input_int%2 == 0 and input_int%5 == 0:\n",
        "  print(\"Multiple of 2 and 5 both\")\n",
        "elif input_int%2 == 0 or input_int%5 == 0:\n",
        "  print(input_int)\n",
        "else:\n",
        "  print(\"Not a multiple we want\")   "
      ],
      "metadata": {
        "colab": {
          "base_uri": "https://localhost:8080/"
        },
        "id": "ECvSIJSu19lb",
        "outputId": "98562d32-456c-4911-f416-a9df8ffcff31"
      },
      "execution_count": null,
      "outputs": [
        {
          "output_type": "stream",
          "name": "stdout",
          "text": [
            "Please enter the number: 17\n",
            "Not a multiple we want\n"
          ]
        }
      ]
    },
    {
      "cell_type": "markdown",
      "source": [
        "Task 8\n",
        "\n",
        "Write the Python code of a program that reads an integer, and prints the integer if it is a multiple of 2 AND 5 and prints \"Not multiple of 2 and 5 both\" otherwise.\n",
        "\n",
        "For example, 10, 20, 30, 40, 50 … i.e. this only includes numbers which are multiples of both 2 and 5. \n",
        "\n",
        "hint(1): we may use the modulus (%) operator for checking the divisibility\n",
        "\n",
        "hint(2): we can consider the number to be an integer\n",
        "\n",
        "Sample Input 1:\n",
        "\n",
        "30\n",
        "\n",
        "Sample Output 1:\n",
        "\n",
        "30\n",
        "\n",
        "Sample Input 2:\n",
        "\n",
        "15\n",
        "\n",
        "Sample Output 2:\n",
        "\n",
        "Not multiple of 2 and 5 both\n",
        "\n",
        "Sample Input 3:\n",
        "\n",
        "6\n",
        "\n",
        "Sample Output 3:\n",
        "\n",
        "Not multiple of 2 and 5 both\n"
      ],
      "metadata": {
        "id": "g8xmVdHK2MBG"
      }
    },
    {
      "cell_type": "code",
      "source": [
        "#task_08\n",
        "input_int = int(input(\"Please enter the number: \"))\n",
        "if input_int%2 ==0 and input_int%5 == 0:\n",
        "  print(input_int)\n",
        "else:\n",
        "  print(\"Not multiple of 2 and 5 both\")  "
      ],
      "metadata": {
        "colab": {
          "base_uri": "https://localhost:8080/"
        },
        "id": "sf8-y-DB2QVw",
        "outputId": "dafee08a-9155-4a74-bcb5-4649b24644f6"
      },
      "execution_count": null,
      "outputs": [
        {
          "output_type": "stream",
          "name": "stdout",
          "text": [
            "Please enter the number: 30\n",
            "30\n"
          ]
        }
      ]
    },
    {
      "cell_type": "markdown",
      "source": [
        "Task 9\n",
        "\n",
        "Write the Python code of a program that finds the number of hours, minutes, and seconds in a given number of seconds. The number of seconds is taken as input from the user. \n",
        "\n",
        "hint(1): we may consider our user input to be an integer value and use // and % operators to solve the problem\n",
        "\n",
        "hint(2): 1 hour = 60 mins = 3600 seconds and 1 min = 60 seconds\n",
        "\n",
        "Sample Input 1:\n",
        "\n",
        "10000\n",
        "\n",
        "Sample Output 1:\n",
        "\n",
        "Hours: 2 Minutes: 46 Seconds: 40\n",
        "\n",
        "Explanation:\n",
        "10000 seconds = 10000 // 3600 = 2 hours and 10000 % 3600 = 2800 seconds.\n",
        "Then again, 2800 // 60 = 46 minutes and 2800 % 60 = 40 seconds.\n",
        "\n",
        "And hence we have arrived at our answer.\n",
        "\n",
        "Sample Input 2:\n",
        "\n",
        "500\n",
        "\n",
        "Sample Output 2:\n",
        "\n",
        "Hours: 0 Minutes: 8 Seconds: 20\n"
      ],
      "metadata": {
        "id": "QwvZG9Nk2aVB"
      }
    },
    {
      "cell_type": "code",
      "source": [
        "#task_09\n",
        "input_time = int(input(\"Please enter the seconds: \"))\n",
        "hour = (input_time//3600)\n",
        "extra = (input_time%3600)\n",
        "min = (extra//60)\n",
        "sec = (extra%60)\n",
        "print(\"Hour:\",hour,\"Minutes:\",min,\"Seconds:\",sec)"
      ],
      "metadata": {
        "colab": {
          "base_uri": "https://localhost:8080/"
        },
        "id": "L59HjN2t2fpG",
        "outputId": "b3264dd2-963d-444f-bf57-4658828cb671"
      },
      "execution_count": null,
      "outputs": [
        {
          "output_type": "stream",
          "name": "stdout",
          "text": [
            "Please enter the seconds: 10000\n",
            "Hour: 2 Minutes: 46 Seconds: 40\n"
          ]
        }
      ]
    },
    {
      "cell_type": "markdown",
      "source": [
        "Task 10\n",
        "\n",
        "Write a Python program to compute and display a person’s weekly salary as determined by the following conditions:\n",
        "\n",
        "If the hours worked is less than or equal to 40, then the person receives Tk 200 per hour.\n",
        "\n",
        "If the hours worked is greater than 40, then the person receives Tk 8000 plus Tk 300 for each hour worked over 40 hours.\n",
        "\n",
        "The program should request the hours worked as an input from the user and display the salary as output. You need to make sure that user input is valid. \n",
        "\n",
        "For example, a person cannot work for -5 hours or more than 168 hours in a week. So, the valid hours range is 0 to 168. \n",
        "\n",
        "For invalid hours, print outputs as given in the samples below.\n",
        "\n",
        "Hint: you can consider the hour (user input) to be an integer\n",
        "\n",
        "Sample Input 1:\n",
        "\n",
        "100\n",
        "\n",
        "Sample Output 1:\n",
        "\n",
        "26000\n",
        "\n",
        "Explanation: Since, the number of hours worked is 100 > 40, therefore salary = 8000 + (100 - 40) * 300 = 26000.\n",
        "\n",
        "Sample Input 2:\n",
        "\n",
        "30\n",
        "\n",
        "Sample Output 2:\n",
        "\n",
        "6000\n",
        "\n",
        "Explanation: Since, the number of hours worked is 30 < 40, therefore salary = 30 * 200 = 6000.\n",
        "\n",
        "Sample Input 3:\n",
        "\n",
        "-30\n",
        "\n",
        "Sample Output 3:\n",
        "\n",
        "Hour cannot be negative\n",
        "\n",
        "Sample Input 4:\n",
        "\n",
        "170\n",
        "\n",
        "Sample Output 4:\n",
        "\n",
        "Impossible to work more than 168 hours weekly\n"
      ],
      "metadata": {
        "id": "IAa5JLZL3BhK"
      }
    },
    {
      "cell_type": "code",
      "source": [
        "#task_10\n",
        "hour = int(input(\"Enter the hours: \"))\n",
        "if hour<0:\n",
        "  print(\"hour cannot be negative\")\n",
        "elif hour>168:\n",
        "  print(\"Impossible to work more than 168 hours weekly\")  \n",
        "elif hour<=40:\n",
        "  print(hour*200)\n",
        "elif hour>40:\n",
        "  print(8000+(hour-40)*300)"
      ],
      "metadata": {
        "colab": {
          "base_uri": "https://localhost:8080/"
        },
        "id": "5PFX91ZE3HIp",
        "outputId": "0f15c498-9bda-491d-ac70-a27cdeff90c2"
      },
      "execution_count": null,
      "outputs": [
        {
          "output_type": "stream",
          "name": "stdout",
          "text": [
            "Enter the hours: 170\n",
            "Impossible to work more than 168 hours weekly\n"
          ]
        }
      ]
    },
    {
      "cell_type": "markdown",
      "source": [
        "Task 11\n",
        "\n",
        "Suppose the following expressions are used to calculate the values of L for different values of S:\n",
        "\n",
        "L = 3000 - 125 S^2 if S < 100\n",
        "\n",
        "L = 12000/((4 + S^2)/14900) if S >= 100\n",
        "\n",
        "Write the Python code of a program that reads a value of S and then calculates the value of L.\n",
        "\n",
        "hint(1): you can import math and use math function for making squares with math.pow(number, power) or you can simply write S ** 2.\n",
        "\n",
        "hint(2): the value of S(user input) will be an integer\n",
        "\n",
        "Sample Input 1:\n",
        "\n",
        "120\n",
        "\n",
        "Sample Output 1:\n",
        "\n",
        "2416.2162162162163\n",
        "\n",
        "Explanation: Since S (user input) given here is 120 >= 100, so L = 12000 / (4 + (120 * 120)/14900) = 2416.2162162162163\n",
        "\n",
        "Sample Input 2:\n",
        "\n",
        "3\n",
        "\n",
        "Sample Output 2:\n",
        "\n",
        "1875\n",
        "\n",
        "Explanation: Since S (user input) given here is 3 < 100, so L = 3000 - 125 * 3 * 3 = 1875\n"
      ],
      "metadata": {
        "id": "YqxPqKTdbXza"
      }
    },
    {
      "cell_type": "code",
      "source": [
        "#task_11\n",
        "import math\n",
        "s = int(input(\"Please enter the value of S: \"))\n",
        "if s<100:\n",
        "  print(3000-125*math.pow(s,2))\n",
        "elif s>=100:\n",
        "  print(12000/(4+math.pow(s,2)/14900))  "
      ],
      "metadata": {
        "colab": {
          "base_uri": "https://localhost:8080/"
        },
        "id": "pozZS7wRhWwX",
        "outputId": "8b150ba4-5db5-48dc-b5d5-874fe86243db"
      },
      "execution_count": null,
      "outputs": [
        {
          "output_type": "stream",
          "name": "stdout",
          "text": [
            "Please enter the value of S: 120\n",
            "2416.2162162162163\n"
          ]
        }
      ]
    },
    {
      "cell_type": "markdown",
      "source": [
        "Task 12\n",
        "\n",
        "Write a Python program that takes an hour from the user as input and tells it is time for which meal.\n",
        "\n",
        "• The user will input the number in a 24-hour format. So, 14 means 2 pm, 3 means 3 am, 18 means 6 pm, etc.\n",
        "\n",
        "• Valid inputs are 0 to 23. Inputs less than 0 or more than 23 are invalid in 24-hour clock.\n",
        "\n",
        "• Assume, input will be whole numbers. For example, 3.5 will NOT be given as input.\n",
        "\n",
        "Input range: \n",
        "\n",
        "Message to be printed\n",
        "\n",
        "4 to 6: Breakfast\n",
        "\n",
        "12 to 13: Lunch\n",
        "\n",
        "16 to 17: Snacks\n",
        "\n",
        "19 to 20: Dinner\n",
        "\n",
        "For all other valid inputs, say \"Patience is a virtue\"\n",
        "\n",
        "For all other invalid inputs, say \"Wrong time\"\n",
        "\n",
        "For example,\n",
        "\n",
        "If the user enters 4, your program should print the message \"Breakfast\".\n",
        "\n",
        "If the user enters 5, your program should print the message \"Breakfast\".\n",
        "\n",
        "If the user enters 6, your program should print the message \"Breakfast\".\n",
        "\n",
        "If the user enters 0, your program should print the message \"Patience is a virtue\".\n",
        "\n",
        "If the user enters 1, your program should print the message \"Patience is a virtue\".\n",
        "\n",
        "If the user enters 18, your program should print the message \"Patience is a virtue\".\n",
        "\n",
        "If the user enters 23, your program should print the message \"Patience is a virtue\".\n",
        "\n",
        "If the user enters 24, your program should print the message \"Wrong Time\".\n",
        "\n",
        "If the user enters -1, your program should print the message \"Wrong Time\".\n",
        "\n",
        "If the user enters 27, your program should print the message \"Wrong time\".\n",
        "\n",
        "Hints: You can use nested conditionals (if-else) or chained conditions (if-elif-else) to solve this problem.\n"
      ],
      "metadata": {
        "id": "cxMyETLDhwS7"
      }
    },
    {
      "cell_type": "code",
      "source": [
        "#task_12\n",
        "input_time = int(input(\"Please enter an hour in 24 hour format: \"))\n",
        "\n",
        "if input_time<0 or input_time>23:\n",
        "  print(\"Wrong time\")  \n",
        "elif 4<=input_time<=6:\n",
        "  print(\"Breakfast\") \n",
        "elif 12<=input_time<=13:\n",
        "  print(\"Lunch\")\n",
        "elif 16<=input_time<=17:\n",
        "  print(\"Snacks\")\n",
        "elif 19<=input_time<=20:\n",
        "  print(\"Dinner\")\n",
        "else:\n",
        "  print(\"Patience in a virtue\")"
      ],
      "metadata": {
        "colab": {
          "base_uri": "https://localhost:8080/"
        },
        "id": "gAvhNYE7iQup",
        "outputId": "2d5819f3-d8aa-40c3-839a-29b4ef985c2a"
      },
      "execution_count": null,
      "outputs": [
        {
          "output_type": "stream",
          "name": "stdout",
          "text": [
            "Please enter an hour in 24 hour format: 1\n",
            "Patience in a virtue\n"
          ]
        }
      ]
    },
    {
      "cell_type": "markdown",
      "source": [
        "Task 13\n",
        "\n",
        "Write the Python code of a program that reads a student’s mark for a single subject, and prints out the corresponding grade for that mark. The mark ranges and corresponding grades are shown in the table below. You need to make sure that the mark is valid. \n",
        "\n",
        "For example, a student cannot receive -5 or 110 marks. So, the valid marks range from 0 to 100.\n",
        "\n",
        "hint(1): you can consider the number to be an integer\n",
        "\n",
        "hint(2): this problem can be solved in two ways: top-down (starts from A) and bottom-up (starts from F)\n",
        "\n",
        "Marks --------------------- Grade\n",
        "\n",
        "90 or above --------------- A\n",
        "\n",
        "80-89 ------------------------- B\n",
        "\n",
        "70-79 ------------------------- C\n",
        "\n",
        "60-69 ------------------------- D\n",
        "\n",
        "50-59-------------------------- E\n",
        "\n",
        "Below 50 -------------------- F\n",
        "\n",
        "\n"
      ],
      "metadata": {
        "id": "TTb9dqEriin8"
      }
    },
    {
      "cell_type": "code",
      "source": [
        "#task_13\n",
        "input_num = int(input(\"Please enter the mark: \"))\n",
        "\n",
        "if input_num<0 or input_num>100:\n",
        "  print(\"Invaild number\")\n",
        "elif input_num>=90:\n",
        "  print(\"A\")\n",
        "elif 80<=input_num<=89:\n",
        "  print(\"B\")\n",
        "elif 70<=input_num<=79:\n",
        "  print(\"C\")\n",
        "elif 60<=input_num<=69:\n",
        "  print(\"D\")\n",
        "elif 50<=input_num<=59:\n",
        "  print(\"E\")\n",
        "else:\n",
        "  print(\"F\")    "
      ],
      "metadata": {
        "colab": {
          "base_uri": "https://localhost:8080/"
        },
        "id": "DqYJxvOqj7K0",
        "outputId": "ac5b0d86-e00a-465a-ffcf-927b6b7927e2"
      },
      "execution_count": null,
      "outputs": [
        {
          "output_type": "stream",
          "name": "stdout",
          "text": [
            "Please enter the mark: 100\n",
            "A\n"
          ]
        }
      ]
    },
    {
      "cell_type": "markdown",
      "source": [
        "Task 14\n",
        "\n",
        "Suppose, your friend is building an automated car called “Besla”. He needs to fix the programming of the car so that it runs at a proper speed.\n",
        "\n",
        "Now, write a python program that takes 2 inputs (distance in meters and time in seconds). The program should then print the velocity in kilometers per hour of that car. Also, it should print whether the car is working properly based on the following chart.\n",
        "\n",
        "Velocity ---------------------------------------- Information to be printed\n",
        "\n",
        "Less than 60 km/h ----------------------- Too slow. Needs more changes.\n",
        "\n",
        "Between 60 km/h to 90 km/h ------- Velocity is okay. The car is ready!\n",
        "\n",
        "Greater than 90 km/h ---------------------Too fast. Only a few changes should suffice.\n",
        "\n",
        "\n",
        "Sample Input 1:\n",
        "\n",
        "160000\n",
        "\n",
        "7200\n",
        "\n",
        "Sample Output 1:\n",
        "\n",
        "80.0 km/h\n",
        "\n",
        "Velocity is okay. The car is ready!\n",
        "\n",
        "Explanation: After the conversion of distance and time, the velocity is (160/2) km/h = 80 km/h. So the velocity is okay\n",
        "\n",
        "Sample Input 2:\n",
        "\n",
        "25400\n",
        "\n",
        "3600\n",
        "\n",
        "Sample Output 2:\n",
        "\n",
        "25.4 km/h\n",
        "\n",
        "Too slow. Needs more changes.\n",
        "\n",
        "Explanation: After the conversion of distance and time, the velocity is (25.4/1) km/h = 25.4 km/h. So the speed is too slow.\n"
      ],
      "metadata": {
        "id": "XB9N03K6kNCB"
      }
    },
    {
      "cell_type": "code",
      "source": [
        "#task_14\n",
        "input_distance = int(input(\"Enter the distance: \"))/1000\n",
        "input_time = int(input(\"Enter the time: \"))/3600\n",
        "\n",
        "velocity = (input_distance/input_time)\n",
        "print(velocity,\"Km/h\")\n",
        "\n",
        "if velocity<60:\n",
        "  print(\"Too slow. Needs more changes.\")\n",
        "elif 60<=velocity<=90:\n",
        "  print(\"Velocity is okay. The car is ready!\")  \n",
        "elif velocity>90:\n",
        "  print(\"Too fast. Only a few changes should suffice.\")  "
      ],
      "metadata": {
        "colab": {
          "base_uri": "https://localhost:8080/"
        },
        "id": "6SNnYgC0lHtE",
        "outputId": "37c12afc-ccab-46c5-c426-4a5fd8a7555f"
      },
      "execution_count": null,
      "outputs": [
        {
          "output_type": "stream",
          "name": "stdout",
          "text": [
            "Enter the distance: 25400\n",
            "Enter the time: 3600\n",
            "25.4 Km/h\n",
            "Too slow. Needs more changes.\n"
          ]
        }
      ]
    },
    {
      "cell_type": "markdown",
      "source": [
        "Task 15\n",
        "\n",
        "Write a python program that takes the CGPA and no of credits completed by a student and prints whether the student is eligible for a waiver and of what percentage.\n",
        "\n",
        "To be eligible for a waiver, a student must have completed at least 30 credits and earned a CGPA greater or equal to 3.8. If not, please print \"The student is not eligible for a waiver\".\n",
        "\n",
        "CGPA ---------------------------- Waiver percentage\n",
        "\n",
        "3.80 - 3.89 --------------------- 25 percent\n",
        "\n",
        "3.90 - 3.94 --------------------- 50 percent\n",
        "\n",
        "3.95 - 3.99 --------------------- 75 percent\n",
        "\n",
        "4.00 ------------------------------- 100 percent\n",
        "\n",
        "Sample Input 1:\n",
        "\n",
        "3.93\n",
        "\n",
        "78\n",
        "\n",
        "Sample Output 1:\n",
        "\n",
        "The student is eligible for a waiver of 50 percent.\n",
        "\n",
        "Sample Input 2:\n",
        "\n",
        "3.79\n",
        "\n",
        "24\n",
        "\n",
        "Sample Output 2:\n",
        "\n",
        "The student is not eligible for a waiver\n"
      ],
      "metadata": {
        "id": "tlP8aLCGpw67"
      }
    },
    {
      "cell_type": "code",
      "source": [
        "#task_15\n",
        "cgpa=float(input(\"Please enter the CGPA of students: \"))\n",
        "credit= int(input(\"Please enter no of credits completed by students: \"))\n",
        "\n",
        "if credit<30 or cgpa<3.80:\n",
        "  print(\"The student is not eligible for a waiver\")\n",
        "else:\n",
        "  if 3.80<=cgpa<=3.89:\n",
        "    print(\"The student is eligible for a waiver of 25 percent.\")\n",
        "  elif 3.90<=cgpa<=3.94:\n",
        "    print(\"The student is eligible for a waiver of 50 percent.\")\n",
        "  elif 3.95<=cgpa<=3.99:\n",
        "    print(\"The student is eligible for a waiver of 75 percent.\")\n",
        "  elif cgpa==4.00:\n",
        "    print(\"The student is eligible for a waiver of 100 percent.\") "
      ],
      "metadata": {
        "colab": {
          "base_uri": "https://localhost:8080/"
        },
        "id": "q4k2K6R5qrpo",
        "outputId": "455e02d2-05ec-4d3f-b73a-57c66d126be4"
      },
      "execution_count": null,
      "outputs": [
        {
          "output_type": "stream",
          "name": "stdout",
          "text": [
            "Please enter the CGPA of students: 4.00\n",
            "Please enter no of credits completed by students: 50\n",
            "The student is eligible for a waiver of 100 percent.\n"
          ]
        }
      ]
    },
    {
      "cell_type": "markdown",
      "source": [
        "Task-16 to Task-19 \n",
        "\n",
        "******TRACING******"
      ],
      "metadata": {
        "id": "E6s1PMmhrEvE"
      }
    },
    {
      "cell_type": "markdown",
      "source": [
        "Task 20\n",
        "\n",
        "Write the Python code of a program that reads an integer, and prints the integer if it is a multiple of NEITHER 2 NOR 5.\n",
        "\n",
        "For example, 1, 3, 7, 9, 11, 13, 17, 19, 21, 23, 27, 29, 31, 33, 37, 39 …\n",
        "\n",
        "hint(1): you may use the modulus (%) operator for checking the divisibility\n",
        "\n",
        "hint(2): you can consider the number to be an integer\n",
        "\n",
        "Sample Input 1:\n",
        "\n",
        "3\n",
        "\n",
        "Sample Output 1:\n",
        "\n",
        "3\n",
        "\n",
        "Sample Input 2:\n",
        "\n",
        "19\n",
        "\n",
        "Sample Output 2:\n",
        "\n",
        "19\n",
        "\n",
        "Sample Input 3:\n",
        "\n",
        "5\n",
        "\n",
        "Sample Output 3:\n",
        "\n",
        "No\n",
        "\n",
        "Sample Input 4:\n",
        "\n",
        "12\n",
        "\n",
        "Sample Output 4:\n",
        "\n",
        "No\n"
      ],
      "metadata": {
        "id": "UR6Ctgb8q_C8"
      }
    },
    {
      "cell_type": "code",
      "source": [
        "#task_20\n",
        "num= int(input(\"Please enter the number: \"))\n",
        "\n",
        "if num%2==0 or num%5==0:\n",
        "  print(\"NO\")\n",
        "else:\n",
        "  print(num)  "
      ],
      "metadata": {
        "colab": {
          "base_uri": "https://localhost:8080/"
        },
        "id": "oDgWlUCTsBuk",
        "outputId": "f91408cf-a5c7-45ea-f36d-907cfdf24e35"
      },
      "execution_count": null,
      "outputs": [
        {
          "output_type": "stream",
          "name": "stdout",
          "text": [
            "Please enter the number: 5\n",
            "NO\n"
          ]
        }
      ]
    },
    {
      "cell_type": "markdown",
      "source": [
        "Task 21\n",
        "\n",
        "Write the Python code of a program that reads an integer, and prints the integer if it is NOT a multiple of 2 OR NOT a multiple of 5.\n",
        "For example, 1, 2, 3, 4, 5, 6, 7, 8, 9, 11, 12, 13, 14, 15, 16, 17, 18, 19, 21, 22\\\n",
        "\n",
        "hint(1): you may use the modulus (%) operator for checking the divisibility\n",
        "\n",
        "hint(2): you can consider the number to be an integer\n",
        "\n",
        "Sample Input 1:\n",
        "\n",
        "3\n",
        "\n",
        "Sample Output 1:\n",
        "\n",
        "3\n",
        "\n",
        "Sample Input 2:\n",
        "\n",
        "15\n",
        "\n",
        "Sample Output 2:\n",
        "\n",
        "15\n",
        "\n",
        "Sample Input 3:\n",
        "\n",
        "20\n",
        "\n",
        "Sample Output 3:\n",
        "\n",
        "No\n",
        "\n",
        "Sample Input 4:\n",
        "\n",
        "14\n",
        "\n",
        "Sample Output 4:\n",
        "\n",
        "14\n"
      ],
      "metadata": {
        "id": "9kjVsWvIs3el"
      }
    },
    {
      "cell_type": "code",
      "source": [
        "#task_21\n",
        "num= int(input(\"Please enter the number: \"))\n",
        "\n",
        "if num%2==0 and num%5==0:\n",
        "  print(\"NO\")\n",
        "else:\n",
        "  print(num)  "
      ],
      "metadata": {
        "colab": {
          "base_uri": "https://localhost:8080/"
        },
        "id": "zatMx7_itS7q",
        "outputId": "62b0c164-1884-4127-821e-7f389bbce95f"
      },
      "execution_count": null,
      "outputs": [
        {
          "output_type": "stream",
          "name": "stdout",
          "text": [
            "Please enter the number: 3\n",
            "3\n"
          ]
        }
      ]
    },
    {
      "cell_type": "markdown",
      "source": [
        "Task 22\n",
        "\n",
        "Fiona has recently started acrylic painting and she is planning to order a few canvases and paints from an online stationery shop. The price of each 10 x 10 sized canvas is 120 tk and the price of each 25 ml paint tube is 75 tk. Depending on the total amount ordered from the shop, she will get some discounts. The table below shows the discount she will get on her total amount.\n",
        "\n",
        "Total Amount (TK) -------- Discount (TK)\n",
        "\n",
        "0 – 299 ------------------------- No Discount\n",
        "\n",
        "300 - 499 ---------------------- 10\n",
        "\n",
        "500 - 749 ----------------------- 20\n",
        "\n",
        "750 - 999 ------------------------ 50\n",
        "\n",
        ".> = 1000 ------------------------ 150\n",
        "\n",
        "Write a python program and take two inputs from the user. The first input will be the number of canvases and the second input will be the number of paint tubes ordered. Based on the price of each item, calculate the total amount that Fiona needs to pay including the discount.\n",
        "\n",
        "Sample Input 1:\n",
        "\n",
        "5\n",
        "\n",
        "8\n",
        "\n",
        "Sample Output 1:\n",
        "\n",
        "Previous total: 1200\n",
        "\n",
        "New total after discount: 1050\n",
        "\n",
        "Explanation: 5 * 120 + 8 * 75 = 1200 Tk was her bill without discount. For 1200 Tk, the discount amount is 150 Tk. So, her new bill with a discount is (1200 - 150) = 1050 Tk.\n",
        "\n",
        "Sample Input 2:\n",
        "\n",
        "0\n",
        "\n",
        "3\n",
        "\n",
        "Sample Output 2:\n",
        "\n",
        "Previous total: 225\n",
        "\n",
        "New total after discount: 225\n",
        "\n",
        "Explanation: 0 * 120 + 3 * 75 = 225 Tk was her bill without discount. For 225 Tk, the discount amount is 0 Tk. So, her new bill with a discount is (225 - 0) = 225 Tk.\n"
      ],
      "metadata": {
        "id": "X9Is67YntV8i"
      }
    },
    {
      "cell_type": "code",
      "source": [
        "#task_22\n",
        "canvas= int(input(\"Enter the number of Canvases: \"))\n",
        "tube= int(input(\"Enter the number of Paint Tubes: \"))\n",
        "\n",
        "total= (canvas*120)+(tube*75)\n",
        "print(\"Previous total:\",total)\n",
        "\n",
        "if 0<=total<=299:\n",
        "  print(\"New total after discount:\",(total-0))\n",
        "elif 300<=total<=499:\n",
        "  print(\"New total after discount:\",(total-10))\n",
        "elif 500<=total<=749:\n",
        "  print(\"New total after discount:\",(total-20))\n",
        "elif 750<=total<=999:\n",
        "  print(\"New total after discount:\",(total-50))\n",
        "else:\n",
        "  print(\"New total after discount:\",(total-150)) "
      ],
      "metadata": {
        "colab": {
          "base_uri": "https://localhost:8080/"
        },
        "id": "es84zSo2udvK",
        "outputId": "8c13e283-7649-411b-b1f7-4fa011422f88"
      },
      "execution_count": null,
      "outputs": [
        {
          "output_type": "stream",
          "name": "stdout",
          "text": [
            "Enter the number of Canvases: 5\n",
            "Enter the number of Paint Tubes: 8\n",
            "Previous total: 1200\n",
            "New total after discount: 1050\n"
          ]
        }
      ]
    },
    {
      "cell_type": "markdown",
      "source": [
        "Task 23\n",
        "\n",
        "You are designing a robot that can calculate the temperature and guess the season. Write a Python program that takes a number as input, representing the temperature in degrees Fahrenheit, and converts it into degrees Celsius, and then prints the season based on the following table:\n",
        "\n",
        "Temperature (degrees Celsius) ------------------------------------------------------------- Season\n",
        "\n",
        "Less than 20 degrees ----------------------------------------------------------------------------- Winter\n",
        "\n",
        "Between 20 degrees and 25 degrees (inclusive) ------------------------------------ Autumn\n",
        "\n",
        "Greater than 25 degrees and less than 30 degrees --------------------------------- Spring\n",
        "\n",
        "Greater than or equal to 30 degrees -------------------------------------------------------- Summer\n",
        "\n",
        "Use the following formula to convert the temperature:\n",
        "\n",
        "(degrees Celsius) = ((degrees Fahrenheit) - 32) * 0.56\n",
        "\n",
        "Sample Input 1:\n",
        "\n",
        "82\n",
        "\n",
        "Sample Output 1:\n",
        "\n",
        "28 degrees C\n",
        "\n",
        "Spring\n",
        "\n",
        "Explanation: The temperature in Celsius is (82 - 32) * 0.56 = 28 degrees, which is printed. This is between 25 and 30 degrees, so “Spring” is printed after that.\n",
        "\n",
        "Sample Input 2:\n",
        "\n",
        "32\n",
        "\n",
        "Sample Output 2:\n",
        "\n",
        "0 degrees C\n",
        "\n",
        "Winter\n",
        "\n",
        "Explanation: The temperature in Celsius is (32 - 32) * 0.56 = 0 degrees, which is printed. This is less than 20 degrees, so “Winter” is printed after that.\n",
        "\n",
        "Sample Input 3:\n",
        "\n",
        "76\n",
        "\n",
        "Sample Output 3:\n",
        "\n",
        "24.64 degrees C\n",
        "\n",
        "Autumn\n",
        "\n",
        "Explanation: The temperature in Celsius is (76 - 32) * 0.56 = 24.64 degrees, which is printed. This is between 20 degrees and 25 degrees (inclusive), so “Autumn” is printed after that.\n",
        "\n",
        "Sample Input 4:\n",
        "\n",
        "77\n",
        "\n",
        "Sample Output 3:\n",
        "\n",
        "25.2 degrees C\n",
        "\n",
        "Spring\n",
        "\n",
        "Explanation: The temperature in Celsius is (77 - 32) * 0.56 = 25.2 degrees, which is printed. This is greater than 25 degrees and less than 30 degrees, so “Spring” is printed after that."
      ],
      "metadata": {
        "id": "UCvHx3MluoDz"
      }
    },
    {
      "cell_type": "code",
      "source": [
        "#task_23\n",
        "temputure= int(input(\"Please enter the temputure in Fahrenheit:    \"))\n",
        "\n",
        "Celsius= (temputure-32)*0.56\n",
        "print(Celsius,\"degrees C\")\n",
        "\n",
        "if Celsius<20:\n",
        "  print(\"Winter\")\n",
        "elif 20<=Celsius<=25:\n",
        "  print(\"Autumn\")  \n",
        "elif 25<Celsius<30:\n",
        "  print(\"Spring\") \n",
        "elif Celsius>=30:\n",
        "  print(\"Summer\")"
      ],
      "metadata": {
        "colab": {
          "base_uri": "https://localhost:8080/"
        },
        "id": "PAnT170xv5uL",
        "outputId": "e9b2453c-4fdd-44bd-c049-5ffa9b18557f"
      },
      "execution_count": null,
      "outputs": [
        {
          "output_type": "stream",
          "name": "stdout",
          "text": [
            "Please enter the temputure in Fahrenheit: 82\n",
            "28.000000000000004 degrees C\n",
            "Spring\n"
          ]
        }
      ]
    }
  ]
}