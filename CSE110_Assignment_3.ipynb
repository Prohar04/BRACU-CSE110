{
  "nbformat": 4,
  "nbformat_minor": 0,
  "metadata": {
    "colab": {
      "provenance": [],
      "authorship_tag": "ABX9TyOnkAwyPTz41xiQnUKlVh1f",
      "include_colab_link": true
    },
    "kernelspec": {
      "name": "python3",
      "display_name": "Python 3"
    },
    "language_info": {
      "name": "python"
    }
  },
  "cells": [
    {
      "cell_type": "markdown",
      "metadata": {
        "id": "view-in-github",
        "colab_type": "text"
      },
      "source": [
        "<a href=\"https://colab.research.google.com/github/Prohar04/BRACU-CSE110/blob/main/CSE110_Assignment_3.ipynb\" target=\"_parent\"><img src=\"https://colab.research.google.com/assets/colab-badge.svg\" alt=\"Open In Colab\"/></a>"
      ]
    },
    {
      "cell_type": "markdown",
      "source": [
        "Task 1\n",
        "\n",
        "Write the python programs, which prints the following sequences of values in loops:\n",
        "\n",
        "a) 24, 18, 12, 6, 0, -6\n",
        "\n",
        "b) -10, -5, 0, 5, 10, 15, 20\n",
        "\n",
        "c) 18, 27, 36, 45, 54, 63\n",
        "\n",
        "d) 18, -27, 36, -45, 54, -63\n",
        "\n",
        "Hint (1): You may use a while loop for solving these problems.\n",
        "\n",
        "Hint (2): We are already familiar with the print() function. But, when we use it to print any value, it automatically adds an additional newline after each print statement.\n",
        "\n",
        "For example:\n",
        "\n",
        "print(1)\n",
        "\n",
        "print(2)\n",
        "\n",
        "Output:\n",
        "\n",
        "1\n",
        "\n",
        "2\n",
        "\n",
        "To solve this problem, in Python3, we can add an extra argument (end = \" \") in the print function which tells the program to skip printing the additional newline.\n",
        "For example:\n",
        "\n",
        "print(1, end =\"\")\n",
        "\n",
        "print(2)\n",
        "\n",
        "Output: \n",
        "\n",
        "(prints the next output right to the previous one)\n",
        "\n",
        "12\n",
        "\n",
        "In Task-1(a), the loop counter may be initialized at 24 and then the loop should terminate when the loop counter reaches -6. The difference between the first two values is 24 - 18 = 6. So, the loop counter value is getting decremented by 6 in every iteration for the given sequence here.\n",
        "\n",
        "Hints for 1(d):\n",
        "\n",
        "print(5 * (-1)) gives output -5\n",
        "\n",
        "print(\"-\" + str(5)) gives output -5\n"
      ],
      "metadata": {
        "id": "t2wKknKNHXrl"
      }
    },
    {
      "cell_type": "code",
      "execution_count": null,
      "metadata": {
        "colab": {
          "base_uri": "https://localhost:8080/"
        },
        "id": "A1FxvSsPHNvl",
        "outputId": "a2dfe3a8-4994-4358-c2bb-735b9e58c98d"
      },
      "outputs": [
        {
          "output_type": "stream",
          "name": "stdout",
          "text": [
            "24, 18, 12, 6, 0, -6"
          ]
        }
      ],
      "source": [
        "#task_1(a)\n",
        "for i in range(24,-7,-6):\n",
        "  if i == -6:\n",
        "    print(i,end=\"\")\n",
        "  else:\n",
        "    print(i,end=\", \")   "
      ]
    },
    {
      "cell_type": "code",
      "source": [
        "#task_1(b)\n",
        "for i in range (-10,21,5):\n",
        "  if i == 20:\n",
        "    print(i,end=\"\")\n",
        "  else:\n",
        "    print(i,end=\", \") "
      ],
      "metadata": {
        "colab": {
          "base_uri": "https://localhost:8080/"
        },
        "id": "gG_v0MSWIRff",
        "outputId": "ab00c047-9962-47e0-bf6f-49358bafb2dc"
      },
      "execution_count": null,
      "outputs": [
        {
          "output_type": "stream",
          "name": "stdout",
          "text": [
            "-10, -5, 0, 5, 10, 15, 20"
          ]
        }
      ]
    },
    {
      "cell_type": "code",
      "source": [
        "#task_1(c)\n",
        "for i in range(18,64,9):\n",
        "  if i == 63:\n",
        "    print(i,end=\"\")\n",
        "  else:\n",
        "    print(i,end=\", \")   "
      ],
      "metadata": {
        "colab": {
          "base_uri": "https://localhost:8080/"
        },
        "id": "skjs75mIIW6L",
        "outputId": "ae65c6fe-cb78-4875-ed5d-9185fed1351e"
      },
      "execution_count": null,
      "outputs": [
        {
          "output_type": "stream",
          "name": "stdout",
          "text": [
            "18, 27, 36, 45, 54, 63"
          ]
        }
      ]
    },
    {
      "cell_type": "code",
      "source": [
        "#task_1(d)\n",
        "for i in range(18,64,9):\n",
        "  if i == 63:\n",
        "    print(-i,end=\"\")\n",
        "  elif i%2!=0:\n",
        "    print(-i,end=\", \")\n",
        "  else:\n",
        "    print(i,end=\", \")  "
      ],
      "metadata": {
        "colab": {
          "base_uri": "https://localhost:8080/"
        },
        "id": "-j5GFPBkIcju",
        "outputId": "2e6fac41-69c8-4973-df63-4c6a76c3c577"
      },
      "execution_count": null,
      "outputs": [
        {
          "output_type": "stream",
          "name": "stdout",
          "text": [
            "18, -27, 36, -45, 54, -63"
          ]
        }
      ]
    },
    {
      "cell_type": "markdown",
      "source": [
        "Task 2\n",
        "\n",
        "Write a Python code for the following:\n",
        "\n",
        "1) Ask the user to enter the name of his favorite car.\n",
        "\n",
        "2) Ask the user to enter a Number\n",
        "\n",
        "Display the name of the user’s favorite car, the number of times specified in the second step.\n",
        "\n",
        "Example 1: If the user enters “Toyota” and 2, your program should print the name “Toyota” two times.\n",
        "\n",
        "Sample Input 1:\n",
        "\n",
        "Toyota\n",
        "\n",
        "2\n",
        "\n",
        "Sample Output 1:\n",
        "\n",
        "Toyota\n",
        "\n",
        "Toyota\n",
        "\n",
        "Example 2: If the user enters “Veyron” and 5, your program should print the name “Veyron” five times.\n",
        "\n",
        "Sample Input 2:\n",
        "\n",
        "Veyron\n",
        "\n",
        "5\n",
        "\n",
        "Sample Output 2:\n",
        "\n",
        "Veyron\n",
        "\n",
        "Veyron\n",
        "\n",
        "Veyron\n",
        "\n",
        "Veyron\n",
        "\n",
        "Veyron\n",
        "\n"
      ],
      "metadata": {
        "id": "u8A7J6EhIlQi"
      }
    },
    {
      "cell_type": "code",
      "source": [
        "#task_02\n",
        "input_car = input(\"Please enter the name of your favorite car: \")\n",
        "num = int(input(\"Enter the number: \"))\n",
        "for i in range(num):\n",
        "  print(input_car)"
      ],
      "metadata": {
        "colab": {
          "base_uri": "https://localhost:8080/"
        },
        "id": "j7FMvVUWJGB9",
        "outputId": "d17658d7-942a-42df-8912-134fc9aacd47"
      },
      "execution_count": null,
      "outputs": [
        {
          "output_type": "stream",
          "name": "stdout",
          "text": [
            "Please enter the name of your favorite car: Veyron\n",
            "Enter the number: 5\n",
            "Veyron\n",
            "Veyron\n",
            "Veyron\n",
            "Veyron\n",
            "Veyron\n"
          ]
        }
      ]
    },
    {
      "cell_type": "markdown",
      "source": [
        "Task 3\n",
        "\n",
        "Write the Python code of a program that adds all numbers that are multiples of both 7 and 9 up to 600 (including 600) i.e. 63, 126, 189, 252, ....\n",
        "\n",
        "The output of your program should be: 2835\n",
        "\n",
        "since 63 + 126 + 189 + 252 + 315 + 378 + 441 + 504 + 567 = 2835"
      ],
      "metadata": {
        "id": "lpWgtKrvJtvE"
      }
    },
    {
      "cell_type": "code",
      "source": [
        "#task_03\n",
        "sum = 0\n",
        "for i in range(600):\n",
        "  if i%7==0 and i%9==0:\n",
        "    sum += i\n",
        "print(sum)   "
      ],
      "metadata": {
        "colab": {
          "base_uri": "https://localhost:8080/"
        },
        "id": "DDdY3ZLmJ2A1",
        "outputId": "d977b398-847f-4649-e192-69ec896d92a7"
      },
      "execution_count": null,
      "outputs": [
        {
          "output_type": "stream",
          "name": "stdout",
          "text": [
            "2835\n"
          ]
        }
      ]
    },
    {
      "cell_type": "markdown",
      "source": [
        "Task 4\n",
        "\n",
        "Write a Python code of a program that adds all numbers that are multiples of either 7 or 9 but not both, up to 600 (including 600) i.e. 7, 9, 14, 18, 21..... and so on but not the numbers 63, 126, 189..... which are multiples of both 7 and 9.\n",
        "\n",
        "The output of your program should be: 39814\n"
      ],
      "metadata": {
        "id": "xq8YQ-h5J89I"
      }
    },
    {
      "cell_type": "code",
      "source": [
        "#task_04\n",
        "sum = 0\n",
        "for i in range(600):\n",
        "  if i%7==0 and i%9!=0: \n",
        "    sum += i\n",
        "  elif i%9==0 and i%7!=0:\n",
        "    sum += i \n",
        "print(sum)   "
      ],
      "metadata": {
        "colab": {
          "base_uri": "https://localhost:8080/"
        },
        "id": "qOJyouhjKFsW",
        "outputId": "e04c5fee-0fe7-4bd5-c623-e4de829eb2c6"
      },
      "execution_count": null,
      "outputs": [
        {
          "output_type": "stream",
          "name": "stdout",
          "text": [
            "39814\n"
          ]
        }
      ]
    },
    {
      "cell_type": "markdown",
      "source": [
        "Task 5\n",
        "\n",
        "Write the Python code of a program that displays all the odd numbers between 10 and 50 (inclusive).\n",
        "\n",
        "Output: 11 13 15 17 19 21 23 25 27 29 31 33 35 37 39 41 43 45 47 49\n"
      ],
      "metadata": {
        "id": "CPbD_IaJKJnR"
      }
    },
    {
      "cell_type": "code",
      "source": [
        "#task_05\n",
        "for i in range(10,50):\n",
        "  if i%2!=0:\n",
        "    print(i,end=\" \")"
      ],
      "metadata": {
        "colab": {
          "base_uri": "https://localhost:8080/"
        },
        "id": "sqCjxlaYKPz9",
        "outputId": "decfee91-9215-43f3-947f-6a5bbe8084a0"
      },
      "execution_count": null,
      "outputs": [
        {
          "output_type": "stream",
          "name": "stdout",
          "text": [
            "11 13 15 17 19 21 23 25 27 29 31 33 35 37 39 41 43 45 47 49 "
          ]
        }
      ]
    },
    {
      "cell_type": "markdown",
      "source": [
        "Task 6\n",
        "\n",
        "Write a Python code that will calculate the value of y if the expression of y is as follows (n is the input):\n",
        "\n",
        "y=12−22+32−42+52.........+n2\n",
        "\n",
        "Sample Input 1:\n",
        "\n",
        "5\n",
        "\n",
        "Sample Output 1:\n",
        "\n",
        "15\n",
        "\n",
        "Explanation: y = 1 - 4 + 9 - 16 + 25 = 15\n",
        "\n",
        "Sample Input 2:\n",
        "\n",
        "10\n",
        "\n",
        "Sample Output 2:\n",
        "\n",
        "-55\n",
        "\n",
        "Explanation: y = 1 - 4 + 9 - 16 + 25 - 36 + 49 - 64 + 81 - 100 = -55\n",
        "\n",
        "Sample Input 3:\n",
        "\n",
        "20\n",
        "\n",
        "Sample Output 3:\n",
        "\n",
        "-210\n"
      ],
      "metadata": {
        "id": "ebQ39wiIKXvp"
      }
    },
    {
      "cell_type": "code",
      "source": [
        "#task_06\n",
        "import math\n",
        "num = int(input(\"Please enter the number: \"))\n",
        "sum = 0\n",
        "for i in range(1,num+1,1):\n",
        "  if i%2 != 0:\n",
        "    sum += math.pow(i,2)\n",
        "  else:\n",
        "    sum -= math.pow(i,2)\n",
        "print(int(sum))     "
      ],
      "metadata": {
        "colab": {
          "base_uri": "https://localhost:8080/"
        },
        "id": "BXVRrokrKpJS",
        "outputId": "350d0156-e6ab-4b64-c355-13a214cb06b5"
      },
      "execution_count": null,
      "outputs": [
        {
          "output_type": "stream",
          "name": "stdout",
          "text": [
            "Please enter the number: 5\n",
            "15\n"
          ]
        }
      ]
    },
    {
      "cell_type": "markdown",
      "source": [
        "Task 7\n",
        "\n",
        "Write a Python code of a program that asks the user to enter ten numbers and then display the total and the average of ONLY the odd numbers among those ten numbers.\n",
        "\n",
        "[Please do not use list for this task]\n",
        "\n",
        "Sample Input 1:\n",
        "\n",
        "1\n",
        "\n",
        "2\n",
        "\n",
        "3\n",
        "\n",
        "4\n",
        "\n",
        "5\n",
        "\n",
        "6\n",
        "\n",
        "7\n",
        "\n",
        "8\n",
        "\n",
        "9\n",
        "\n",
        "10\n",
        "\n",
        "Sample Output 1:\n",
        "\n",
        "The total of the odd numbers is 25 and their average is 5.0\n",
        "\n",
        "Explanation: The total is 1 + 3 + 5 + 7 + 9 = 25 and the average is 25/5 = 5.0\n",
        "\n",
        "Sample Input 2:\n",
        "\n",
        "-20\n",
        "\n",
        "13\n",
        "\n",
        "-5\n",
        "\n",
        "40\n",
        "\n",
        "-17\n",
        "\n",
        "10\n",
        "\n",
        "20\n",
        "\n",
        "-8\n",
        "\n",
        "99\n",
        "\n",
        "-200\n",
        "\n",
        "Sample Output 2:\n",
        "\n",
        "The total of the odd numbers is 90 and their average is 22.5\n",
        "\n",
        "Explanation: The total is 90 = 13 + (-5) + (-17) + 99) and their average is 90/4 = 22.5\n"
      ],
      "metadata": {
        "id": "2-WyWi1kLEGu"
      }
    },
    {
      "cell_type": "code",
      "source": [
        "#task_7\n",
        "sum = 0\n",
        "counter = 0\n",
        "for i in range(10):\n",
        "  input_int = int(input(\"Enter a number: \"))\n",
        "  if input_int%2 != 0:\n",
        "    sum += input_int\n",
        "    counter += 1\n",
        "print(f\"The total of the odd numbers is {sum} and their average is {sum/counter}\")  "
      ],
      "metadata": {
        "colab": {
          "base_uri": "https://localhost:8080/"
        },
        "id": "wkCHKEj5LiDI",
        "outputId": "5133a46e-6ed1-4d22-b3ae-531b652d5018"
      },
      "execution_count": null,
      "outputs": [
        {
          "output_type": "stream",
          "name": "stdout",
          "text": [
            "Enter a number: 1\n",
            "Enter a number: 2\n",
            "Enter a number: 3\n",
            "Enter a number: 4\n",
            "Enter a number: 5\n",
            "Enter a number: 6\n",
            "Enter a number: 7\n",
            "Enter a number: 8\n",
            "Enter a number: 9\n",
            "Enter a number: 10\n",
            "The total of the odd numbers is 25 and their average is 5.0\n"
          ]
        }
      ]
    },
    {
      "cell_type": "markdown",
      "source": [
        "Task 8\n",
        "\n",
        "Write a Python code for the following:\n",
        "\n",
        "Ask the user to enter a Number, N\n",
        "\n",
        "Display the summation of multiples of 7 up to that number (from 1 to N inclusive)\n",
        "\n",
        "Sample Input 1:\n",
        "\n",
        "50\n",
        "\n",
        "Sample Output 1:\n",
        "\n",
        "196\n",
        "\n",
        "Explanation: The summation of multiples of 7 up to 50 is 7 + 14 + 21 + 28 + 35 + 42 + 49 = 196\n",
        "\n",
        "Sample Input 2:\n",
        "\n",
        "75\n",
        "\n",
        "Sample Output 2:\n",
        "\n",
        "385\n",
        "\n",
        "Explanation: The summation of multiples of 7 up to 75 is 7 + 14 + 21 + 28 + 35 + 42 + 49 + 56 + 63 + 70 = 385\n"
      ],
      "metadata": {
        "id": "h3A0OuF5Lyf2"
      }
    },
    {
      "cell_type": "code",
      "source": [
        "#task_08\n",
        "N = int(input(\"Enter the value of N: \"))\n",
        "sum = 0\n",
        "for i in range(7,N+1,7):\n",
        "  sum += i\n",
        "print(sum)  "
      ],
      "metadata": {
        "colab": {
          "base_uri": "https://localhost:8080/"
        },
        "id": "NYWtnJ5yMLaV",
        "outputId": "ced11bb0-7fef-4290-f94d-97d64813f093"
      },
      "execution_count": null,
      "outputs": [
        {
          "output_type": "stream",
          "name": "stdout",
          "text": [
            "Enter the value of N: 50\n",
            "196\n"
          ]
        }
      ]
    },
    {
      "cell_type": "markdown",
      "source": [
        "Task 9\n",
        "\n",
        "Write a Python code that will read 5 numbers from the user. Your program should print the first number, the sum of the first 2 numbers, the sum of the first 3 numbers, and so on up to the sum of 5 numbers.\n",
        "\n",
        "Sample Input 1:\n",
        "\n",
        "1\n",
        "\n",
        "2\n",
        "\n",
        "3\n",
        "\n",
        "4\n",
        "\n",
        "5\n",
        "\n",
        "Sample Output 1:\n",
        "\n",
        "1\n",
        "\n",
        "3\n",
        "\n",
        "6\n",
        "\n",
        "10\n",
        "\n",
        "15\n",
        "\n",
        " \n",
        "Explanation:\n",
        "\n",
        "When the user enters 1 at first, we print 1, then\n",
        "\n",
        "The user enters 2, (1 + 2) = 3, so our output is 3, then\n",
        "\n",
        "The user enters 3, (3 + 3) = 6, hence our output is 6, then\n",
        "\n",
        "The user enters 4, and we have (6 + 4) = 10, we print 10, and finally\n",
        "\n",
        "The user enters 5, the final sum is 15 which is printed as the last output.\n",
        "\n",
        "Sample Input 2:\n",
        "\n",
        "11\n",
        "\n",
        "-29\n",
        "\n",
        "-3\n",
        "\n",
        "47\n",
        "\n",
        "50\n",
        "\n",
        "Sample Output 2:\n",
        "\n",
        "11\n",
        "\n",
        "-18\n",
        "\n",
        "-21\n",
        "\n",
        "26\n",
        "\n",
        "76\n",
        "\n",
        "Explanation:\n",
        "\n",
        "When the user enters 11 at first, we print 11, then\n",
        "\n",
        "The user enters -29, (11 + (-29)) = -18, so our output is -18, then\n",
        "\n",
        "The user enters -3, (-18 - 3) = -21, hence our output is -21, then\n",
        "\n",
        "The user enters 4, and we have (-21 + 47) = 26, we print 26, and finally\n",
        "\n",
        "The user enters 50, the final sum is (26 + 50) = 76 which is printed as the last output."
      ],
      "metadata": {
        "id": "jLUSiI5BMONX"
      }
    },
    {
      "cell_type": "code",
      "source": [
        "#task_09\n",
        "sum = 0\n",
        "for i in range(5):\n",
        "  input_int = int(input(\"Enter a number: \"))\n",
        "  sum += input_int\n",
        "  print(sum)"
      ],
      "metadata": {
        "colab": {
          "base_uri": "https://localhost:8080/"
        },
        "id": "N1YKtEquMjar",
        "outputId": "a201f159-7c3d-4572-b6c7-f6dfbed2c0bc"
      },
      "execution_count": null,
      "outputs": [
        {
          "output_type": "stream",
          "name": "stdout",
          "text": [
            "Enter a number: 1\n",
            "1\n",
            "Enter a number: 2\n",
            "3\n",
            "Enter a number: 3\n",
            "6\n",
            "Enter a number: 4\n",
            "10\n",
            "Enter a number: 5\n",
            "15\n"
          ]
        }
      ]
    },
    {
      "cell_type": "markdown",
      "source": [
        "Task 10\n",
        "\n",
        "Write a Python program which takes a number and prints the digits from the unit place, then the tenth, then hundredth, etc. (Right to Left)\n",
        "[Consider the input number to be an INTEGER. You are not allowed to use String indexing for solving this task]\n",
        "\n",
        "Example: If the user gives 32768, then print 8, 6, 7, 2, 3\n",
        "\n",
        "Hint (1): The input() function, converts the input data to String data type by default. Therefore, please type cast it to an integer before proceeding further.\n",
        "\n",
        "Hint (2): First to get the digit from the right side, we can take the remainder of the number using modulus (%) operator i.e. mod 10 to get the rightmost digit and print it. For dropping the last digit, we can perform floor division by 10 on the number and then continue the same to print the other digits as shown below.\n",
        "\n",
        "32768 % 10 = 8\n",
        "\n",
        "32768 // 10 = 3276\n",
        "\n",
        "Then,\n",
        "\n",
        "3276 % 10 = 6\n",
        "\n",
        "3276 // 10 = 327\n",
        "\n",
        "and so on\n",
        "\n",
        "327 % 10 = 7\n",
        "\n",
        "327 // 10 = 32\n",
        "\n",
        "32 % 10 = 2\n",
        "\n",
        "32 // 10 = 3\n",
        "\n",
        "3 % 10 = 3\n",
        "\n",
        "3 // 10 = 0\n",
        "\n",
        "Done! When the number becomes 0 you can end your loop.\n"
      ],
      "metadata": {
        "id": "KNxk9EB4KfWD"
      }
    },
    {
      "cell_type": "code",
      "source": [
        "#task_10\n",
        "input_int = int(input(\"Enter the number: \"))\n",
        "while input_int > 0:\n",
        "  remainder = input_int%10\n",
        "  input_int = input_int//10\n",
        "  if input_int == 0:\n",
        "    print(remainder,end=\"\")\n",
        "  else:\n",
        "    print(remainder,end=\", \")  "
      ],
      "metadata": {
        "colab": {
          "base_uri": "https://localhost:8080/"
        },
        "id": "lXjkV8cUK7My",
        "outputId": "982282ae-6274-45bf-f4fe-31cd11560517"
      },
      "execution_count": null,
      "outputs": [
        {
          "output_type": "stream",
          "name": "stdout",
          "text": [
            "Enter the number: 32768\n",
            "8, 6, 7, 2, 3"
          ]
        }
      ]
    },
    {
      "cell_type": "markdown",
      "source": [
        "Task 11\n",
        "\n",
        "Write a Python program that takes a number and prints how many digits are in that number.\n",
        "\n",
        "[Consider the input number to be an INTEGER.]\n",
        "\n",
        "[You are not allowed to use len() function]\n",
        "\n",
        "Example: If the user gives 9876, your program should print 4.\n",
        "\n",
        "Hint: We may keep floor dividing by ten and count how many times this can be done until the number becomes 0 as illustrated below.\n",
        "\n",
        "9876 // 10 = 987, count = 1\n",
        "\n",
        "then, 987 // 10 = 98, count = 2\n",
        "\n",
        "98 // 10 = 9, count = 3\n",
        "\n",
        "9 // 10 = 0, count = 4\n",
        "\n",
        "Done! When the number becomes 0 your loop can end giving you the count of digits, in this case for our input of 9876, 4 digits.\n"
      ],
      "metadata": {
        "id": "0r76saaNLNqR"
      }
    },
    {
      "cell_type": "code",
      "source": [
        "#task_11\n",
        "counter = 0\n",
        "input_int = int(input(\"Enter the number: \"))\n",
        "while input_int > 0:\n",
        "  input_int = input_int//10\n",
        "  counter += 1\n",
        "print(counter)  "
      ],
      "metadata": {
        "colab": {
          "base_uri": "https://localhost:8080/"
        },
        "id": "hTuQA1ELLasM",
        "outputId": "cf7cc39f-97ad-4cf2-98be-d43bb1883753"
      },
      "execution_count": null,
      "outputs": [
        {
          "output_type": "stream",
          "name": "stdout",
          "text": [
            "Enter the number: 9876\n",
            "4\n"
          ]
        }
      ]
    },
    {
      "cell_type": "markdown",
      "source": [
        "Task 12\n",
        "\n",
        "Write a Python program that takes a number from the user and prints its digits from left to right.\n",
        "\n",
        "[Consider the input number to be an INTEGER. You are not allowed to use String indexing for solving this task]\n",
        "\n",
        "Example: if the user gives 32768, then print 3, 2, 7, 6, 8\n",
        "\n",
        "Hint(1): The input() function takes the input data as String data type by default. Please convert it to an integer before starting your code for the task.\n",
        "\n",
        "Hint(2):\n",
        "\n",
        "Step 1: First, count how many digits\n",
        "\n",
        "Step 2: Then, calculate 10 to the power (number of digits - 1).\n",
        "\n",
        "Step 3 with explanation: Say, the input given by the user as in our example, 32768 has 5 digits, so calculating 10 to the power 4 gives us 10000. Then floor dividing 32768 by 10000, we can get 3. \n",
        "\n",
        "Proceeding further, the remainder of 32768 by 10000 (32768 % 10000) gives us 2768. This time to get 2 we need to floor divide 2768 by 1000 which is basically our 10000/10. Again, taking remainder of 2768 by 1000 gives us 768 which we then divide by 100 (i.e. 1000/10) and keep on doing this until there are no more digits left (zero).\n",
        "\n",
        "To summarize and clarify:\n",
        "\n",
        "Loop 1: First, we count digits like our Task 12, say 5 in this case for 32768\n",
        "\n",
        "Loop 2: Then, we calculate 10 to the power 4 (5-1), that is 10000.\n",
        "\n",
        "Loop 3: Then we keep repeating the three steps of floor dividing, modulus and dividing by 10 as demonstrated below.\n",
        "\n",
        "32768 // 10000 = 3\n",
        "\n",
        "32768 % 10000 = 2768\n",
        "\n",
        "10000 // 10 = 1000\n",
        "\n",
        "2768 // 1000 = 2\n",
        "\n",
        "2768 % 1000 = 768\n",
        "\n",
        "1000 // 10 = 100\n",
        "\n",
        "768 // 100 = 7\n",
        "\n",
        "768 % 100 = 68\n",
        "\n",
        "100 // 10 = 10\n",
        "\n",
        "68 // 10 = 6\n",
        "\n",
        "68 % 10 = 8\n",
        "\n",
        "10 // 10 = 1\n",
        "\n",
        "8 // 1 = 8\n",
        "\n",
        "8 % 1 = 0\n",
        "\n",
        "1 // 10 = 0\n",
        "\n",
        "Done. Loop ends as number has become 0.\n"
      ],
      "metadata": {
        "id": "ypoyRlMjMBoK"
      }
    },
    {
      "cell_type": "code",
      "source": [
        "#task_12\n",
        "num_1 = int(input(\"Please enter a Number: \"))\n",
        "num_2 = num_1\n",
        "counter = 0\n",
        "import math\n",
        "\n",
        "while num_1 > 0:\n",
        "  num_1 = num_1 // 10\n",
        "  counter += 1 \n",
        "  divider = math.pow(10,(counter - 1))\n",
        "\n",
        "while divider > 0:\n",
        "  result = num_2 // divider\n",
        "  num_2 = num_2 % divider\n",
        "  divider = divider // 10\n",
        "\n",
        "  if divider == 0:\n",
        "    print(int(result), end=\"\")\n",
        "  else:\n",
        "    print(int(result), end=\",\")"
      ],
      "metadata": {
        "colab": {
          "base_uri": "https://localhost:8080/"
        },
        "id": "nYY_XJ0xMcas",
        "outputId": "db3f89c7-e1f3-4523-9c1f-4b3bea4e5166"
      },
      "execution_count": null,
      "outputs": [
        {
          "output_type": "stream",
          "name": "stdout",
          "text": [
            "Please enter a Number: 32768\n",
            "3,2,7,6,8"
          ]
        }
      ]
    },
    {
      "cell_type": "markdown",
      "source": [
        "Task 13\n",
        "\n",
        "Write a Python program that takes a number as input from the user and prints the divisors of that number as well as how many divisors the number has.\n",
        "\n",
        "Sample Input 1:\n",
        "\n",
        "6\n",
        "\n",
        "Sample Output 1:\n",
        "\n",
        "1\n",
        "\n",
        "2\n",
        "\n",
        "3\n",
        "\n",
        "6\n",
        "\n",
        "Total 4 divisors.\n",
        "\n",
        "Sample Input 2:\n",
        "\n",
        "121\n",
        "\n",
        "Sample Output 2:\n",
        "\n",
        "1\n",
        "\n",
        "11\n",
        "\n",
        "121\n",
        "\n",
        "Total 3 divisors.\n"
      ],
      "metadata": {
        "id": "R5QRj9v9NVPm"
      }
    },
    {
      "cell_type": "code",
      "source": [
        "#task_13\n",
        "divisor = 0\n",
        "num = int(input(\"Please enter a Number: \"))\n",
        "for i in range (1, num+1):\n",
        "  if num%i == 0:\n",
        "    print(i)\n",
        "    divisor += 1\n",
        "print(f\"Total {divisor} divisor\")    "
      ],
      "metadata": {
        "colab": {
          "base_uri": "https://localhost:8080/"
        },
        "id": "JDhjeUrANtWv",
        "outputId": "27e8a4ef-68d2-4ffa-f4ec-d3c2b3a996b7"
      },
      "execution_count": null,
      "outputs": [
        {
          "output_type": "stream",
          "name": "stdout",
          "text": [
            "Please enter a Number: 6\n",
            "1\n",
            "2\n",
            "3\n",
            "6\n",
            "Total 4 divisor\n"
          ]
        }
      ]
    },
    {
      "cell_type": "markdown",
      "source": [
        "Task 14\n",
        " \n",
        "Write a Python program that takes a number as input from the user and tells if it is a perfect number or not.\n",
        "\n",
        "Perfect Number: An integer number is said to be a perfect number if its factors, including 1 but not the number itself, sum to the number.\n",
        "\n",
        "Sample Input 1:\n",
        "\n",
        "6\n",
        "\n",
        "Sample Output 2:\n",
        "\n",
        "6 is a perfect number\n",
        "\n",
        "Explanation:\n",
        "\n",
        "6 has 4 divisors: 1, 2, 3, and 6.\n",
        "\n",
        "If we add all factors except 6 itself, 1 + 2 + 3 = 6. The sum of the factors excluding the number itself sum up to the number therefore \"6 is a perfect number\" is printed.\n",
        "\n",
        "Sample Input 2:\n",
        "\n",
        "28\n",
        "\n",
        "Sample Output 2:\n",
        "\n",
        "28 is a perfect number\n",
        "\n",
        "Explanation:\n",
        "\n",
        "28 has the divisors: 1, 2, 4, 7, 14, and 28.\n",
        "\n",
        "If we add all factors except itself, we get 28, 1 + 2 + 4 + 7 + 14 = 28.\n",
        "\n",
        "Sample Input 3:\n",
        "\n",
        "33\n",
        "\n",
        "Sample Output 3:\n",
        "\n",
        "33 is not a perfect number\n",
        "\n",
        "Explanation:\n",
        "\n",
        "33 has 4 divisors: 1, 3, 11, and 33.\n",
        "\n",
        "If we add all factors except itself, 15 = 1 + 3 + 11. The sum is not equal to the number, therefore 33 is not a perfect number.\n"
      ],
      "metadata": {
        "id": "wk1uphUZOKFT"
      }
    },
    {
      "cell_type": "code",
      "source": [
        "#task_14\n",
        "sum = 0\n",
        "num = int(input(\"Please enter a Number: \"))\n",
        "for i in range (1, num):\n",
        "  if num%i == 0:\n",
        "    sum += i\n",
        "if num == sum:\n",
        "  print(f\"{num} is a perfect number\")\n",
        "else:\n",
        "  print((f\"{num} is not a perfect number\"))  "
      ],
      "metadata": {
        "colab": {
          "base_uri": "https://localhost:8080/"
        },
        "id": "urGT3PRXOp_U",
        "outputId": "57dcd4ba-1d52-47e6-8bf0-2cc2834e86c9"
      },
      "execution_count": null,
      "outputs": [
        {
          "output_type": "stream",
          "name": "stdout",
          "text": [
            "Please enter a Number: 6\n",
            "6 is a perfect number\n"
          ]
        }
      ]
    },
    {
      "cell_type": "markdown",
      "source": [
        "Task 15\n",
        "\n",
        "Write a Python program that asks the user for one number and tells if it is a prime number or not.\n",
        "\n",
        "Prime Number: If a number has only two divisors, (1 and itself), then it is a prime number. If it is divisible by more numbers, then it is not a prime.\n",
        "\n",
        "Hint: You may use the code for counting divisors from Task 14.\n",
        "\n",
        "Sample Input 1:\n",
        "\n",
        "11\n",
        "\n",
        "Sample Output 1:\n",
        "\n",
        "11 is a prime number\n",
        "\n",
        "Explanation: 11 has only 2 divisors: 1 and 11.\n",
        "\n",
        "Sample Input 2:\n",
        "\n",
        "6\n",
        "\n",
        "Sample Output 2:\n",
        "\n",
        "6 is not a prime number\n",
        "\n",
        "Explanation: 6 has 4 divisors: 1, 2, 3 and 6.\n"
      ],
      "metadata": {
        "id": "Dib3UBGTOwf6"
      }
    },
    {
      "cell_type": "code",
      "source": [
        "#task_15\n",
        "num = int(input(\"Please enter a Number: \"))\n",
        "counter = 0\n",
        "for i in range (1,num+1):\n",
        "  if num%i == 0:\n",
        "    counter += 1\n",
        "if counter == 2:\n",
        "  print(f\"{num} is a prime number\") \n",
        "else:\n",
        "  print(f\"{num} is not a prime number\")   "
      ],
      "metadata": {
        "colab": {
          "base_uri": "https://localhost:8080/"
        },
        "id": "Iue28HxkO_0z",
        "outputId": "476f6807-0d3d-4f56-a460-b8109047fd24"
      },
      "execution_count": null,
      "outputs": [
        {
          "output_type": "stream",
          "name": "stdout",
          "text": [
            "Please enter a Number: 11\n",
            "11 is a prime number\n"
          ]
        }
      ]
    },
    {
      "cell_type": "markdown",
      "source": [
        "Task 16\n",
        "\n",
        "Write a Python program that asks the user for a quantity, then takes that many numbers as input and prints the maximum, minimum and average of those numbers.\n",
        "\n",
        "[Please note that you CANNOT use max, min built-in functions]\n",
        "\n",
        "[Also, you DO NOT need to use lists for this task]\n",
        "\n",
        "Example: If the user enters 5 as an input for quantity and the enters the 5 numbers, 10, 4, -1, -100, and 1.\n",
        "\n",
        "The output of your program should be: “Maximum 10”, “Minimum -100”, “Average is -17.2” as shown below.\n",
        "\n",
        "Input:\n",
        "\n",
        "5 \n",
        "\n",
        "10 \n",
        "\n",
        "4 \n",
        "\n",
        "-1 \n",
        "\n",
        "-100 \n",
        "\n",
        "1\n",
        "\n",
        "Output:\n",
        "\n",
        "Maximum 10\n",
        "\n",
        "Minimum -100\n",
        "\n",
        "Average is -17.2\n",
        "\n",
        "Explanation: Average calculation: (10 + 4 + (-1) + (-100) + 1)/5 = -86/5 = -17.2\n"
      ],
      "metadata": {
        "id": "fuI85l5fPsX0"
      }
    },
    {
      "cell_type": "code",
      "source": [
        "#task_16\n",
        "sum = 0\n",
        "quantity = int(input(\"Please enter the quantity: \"))\n",
        "max = quantity\n",
        "min = quantity\n",
        "\n",
        "for i in range(quantity):\n",
        "  num = int(input(\"Please enter the numbers: \"))\n",
        "  sum += num\n",
        "  if num > max:\n",
        "    max = num\n",
        "  elif num < min:\n",
        "    min = num  \n",
        "  avg = sum/quantity\n",
        "  \n",
        "print(\"Maximum\",max)\n",
        "print(\"Minimum\",min)\n",
        "print(\"Average is\",avg)"
      ],
      "metadata": {
        "colab": {
          "base_uri": "https://localhost:8080/"
        },
        "id": "N2U6Z4qsQxX2",
        "outputId": "93daa64e-0742-40e9-9bbd-2a25378e45c4"
      },
      "execution_count": null,
      "outputs": [
        {
          "output_type": "stream",
          "name": "stdout",
          "text": [
            "Please enter the quantity: 5\n",
            "Please enter the numbers: 10\n",
            "Please enter the numbers: 4\n",
            "Please enter the numbers: -1\n",
            "Please enter the numbers: -100\n",
            "Please enter the numbers: 1\n",
            "Maximum 10\n",
            "Minimum -100\n",
            "Average is -17.2\n"
          ]
        }
      ]
    },
    {
      "cell_type": "markdown",
      "source": [
        "Task 17\n",
        "\n",
        "Write a python program that prints a square of size N using + where N will be given as input as illustrated in the examples below.\n",
        "\n",
        "Hint: You may need to use nested loops to solve this problem.\n",
        "\n",
        "Sample Input 1:\n",
        "\n",
        "5\n",
        "\n",
        "Sample Output 1:\n",
        "\n",
        "+++++\n",
        "\n",
        "+++++\n",
        "\n",
        "+++++\n",
        "\n",
        "+++++\n",
        "\n",
        "+++++\n",
        "\n",
        "Explanation: Here, we may see it as 5 rows and 5 columns, where in each horizontal row/line, 5 '+' is printed next to each other and we have a total of 5 lines.\n",
        "\n",
        "Sample Input 2:\n",
        "\n",
        "3\n",
        "\n",
        "Sample Output 2:\n",
        "\n",
        "+++\n",
        "\n",
        "+++\n",
        "\n",
        "+++\n",
        "\n",
        "Explanation: If the input is 3, then there will be 3 rows and 3 columns, where in each horizontal row/line, '+' is printed 3 times, 1 in each of the 3 columns and we will have a total of 3 lines.\n",
        "\n"
      ],
      "metadata": {
        "id": "Qmi3qB2cRfv-"
      }
    },
    {
      "cell_type": "code",
      "source": [
        "#task_17\n",
        "num = int(input(\"Please enter the number: \"))\n",
        "for r in range(1, num + 1):\n",
        "  for c in range (1, num + 1):\n",
        "    print(\"+\",end=\"\")\n",
        "  print()"
      ],
      "metadata": {
        "colab": {
          "base_uri": "https://localhost:8080/"
        },
        "id": "KHDCOaeuR59P",
        "outputId": "c33ab747-93de-4277-f009-290f1faa41b5"
      },
      "execution_count": null,
      "outputs": [
        {
          "output_type": "stream",
          "name": "stdout",
          "text": [
            "Please enter the number: 5\n",
            "+++++\n",
            "+++++\n",
            "+++++\n",
            "+++++\n",
            "+++++\n"
          ]
        }
      ]
    },
    {
      "cell_type": "markdown",
      "source": [
        "Task 18\n",
        "\n",
        "Write a python program that prints a rectangle of size M (height/line numbers) and N (length/column numbers) using incrementing numbers where M and N will be given as input. Please look at the examples below for clarification.\n",
        "\n",
        "Hint: You may need to use nested loops and print the loop counter variable in one of the loops.\n",
        "\n",
        "Sample Input 1:\n",
        "\n",
        "4\n",
        "\n",
        "6\n",
        "\n",
        "Sample Output 1:\n",
        "\n",
        "123456\n",
        "\n",
        "123456\n",
        "\n",
        "123456\n",
        "\n",
        "123456\n",
        "\n",
        "Explanation: The user has given 4 rows/lines and 6 columns as input. \n",
        "Therefore, we have 4 lines in our output here and in each line, the column number is printed from 1 through to 6 for the 6 columns.\n",
        "\n",
        "Sample Input 2:\n",
        "\n",
        "3\n",
        "\n",
        "2\n",
        "\n",
        "Sample Output 2:\n",
        "\n",
        "12\n",
        "\n",
        "12\n",
        "\n",
        "12\n",
        "\n",
        "Explanation: Our user input this time is 3 rows/lines and 2 columns. So, our output has 3 lines and, in each line, the column number 1 and 2 are printed next to each other as the user only wants 2 columns here.\n"
      ],
      "metadata": {
        "id": "cs6fYlUFSLbG"
      }
    },
    {
      "cell_type": "code",
      "source": [
        "#task_18\n",
        "line = int(input(\"Please enter the line numbers: \"))\n",
        "column = int(input(\"Please enter the column numbers: \"))\n",
        "for r in range (line):\n",
        "  for c in range(1, column+1):\n",
        "    print(c,end=\"\")\n",
        "  print()  "
      ],
      "metadata": {
        "colab": {
          "base_uri": "https://localhost:8080/"
        },
        "id": "k312zPJaSd9y",
        "outputId": "5faa84e3-f074-4cd0-ada5-0d1833a1a3e1"
      },
      "execution_count": null,
      "outputs": [
        {
          "output_type": "stream",
          "name": "stdout",
          "text": [
            "Please enter the line numbers: 4\n",
            "Please enter the column numbers: 6\n",
            "123456\n",
            "123456\n",
            "123456\n",
            "123456\n"
          ]
        }
      ]
    },
    {
      "cell_type": "markdown",
      "source": [
        "Task 19\n",
        "\n",
        "Write a python program that prints a right-angled triangle of height N using incrementing numbers where N will be given as input.\n",
        "\n",
        "Hint: You may need to use nested loops. Try to think up to which point should the inner loop run.\n",
        "\n",
        "Sample Input 1:\n",
        "\n",
        "4\n",
        "\n",
        "Sample Output 1:\n",
        "\n",
        "1\n",
        "\n",
        "12\n",
        "\n",
        "123\n",
        "\n",
        "1234\n",
        "\n",
        "Explanation: For an input of 4, we have 4 rows/lines where in each line, the respective column number is printed sequentially up to the line/row number. So, in line number 1, we have 1 only. In line 2, 12 is printed. In line 3, we have 123 and so on.\n",
        "\n",
        "Sample Input 2:\n",
        "\n",
        "5\n",
        "\n",
        "Sample Output 2:\n",
        "\n",
        "1\n",
        "\n",
        "12\n",
        "\n",
        "123\n",
        "\n",
        "1234\n",
        "\n",
        "12345\n",
        "\n",
        "Explanation: Numbers are printed sequentially up to the line number for each of the lines."
      ],
      "metadata": {
        "id": "NDPPz_NFS4C2"
      }
    },
    {
      "cell_type": "code",
      "source": [
        "#task_19\n",
        "num = int(input(\"Please enter the number: \"))\n",
        "for r in range (num):\n",
        "  for c in range (r+1):\n",
        "    print(c+1,end=\"\")\n",
        "  print()  "
      ],
      "metadata": {
        "colab": {
          "base_uri": "https://localhost:8080/"
        },
        "id": "47JTsO4kTLdF",
        "outputId": "8657b2a6-d81d-4f7f-84fb-f5ce4c55a156"
      },
      "execution_count": null,
      "outputs": [
        {
          "output_type": "stream",
          "name": "stdout",
          "text": [
            "Please enter the number: 4\n",
            "1\n",
            "12\n",
            "123\n",
            "1234\n"
          ]
        }
      ]
    },
    {
      "cell_type": "markdown",
      "source": [
        "Task - 20 to Task - 24\n",
        "\n",
        "****TRACING****\n",
        "\n",
        "*Optional Tasks (25 - 29) [Ungraded]*"
      ],
      "metadata": {
        "id": "XkPMQ9VnTyWT"
      }
    },
    {
      "cell_type": "markdown",
      "source": [
        "Task 25\n",
        "\n",
        "Write a python program that prints all the Fibonacci numbers from 0 to N where N will be given as input by the user.\n",
        "\n",
        "A Fibonacci number is a number which is the summation of its previous two Fibonacci numbers.\n",
        "\n",
        "The first two Fibonacci numbers are 0 and 1.\n",
        "\n",
        "So, the 3rd is 0 + 1 = 1,\n",
        "\n",
        "the 4th is 1 + 1 = 2,\n",
        "\n",
        "the 5th is 1 + 2 = 3,\n",
        "\n",
        "the 6th one is 2 + 3 = 5,\n",
        "\n",
        "and so on.\n",
        "\n",
        "i.e. 0, 1, 1, 2, 3, 5, 8, 13, 21.......\n",
        "\n",
        "Sample Input 1:\n",
        "\n",
        "10\n",
        "\n",
        "Sample Output 1:\n",
        "\n",
        "0 1 1 2 3 5 8\n",
        "\n",
        "Explanation: All Fibonacci numbers up to the number 10 is printed separated by spaces.\n",
        "\n",
        "Sample Input 2:\n",
        "\n",
        "15\n",
        "\n",
        "Sample Output 2:\n",
        "\n",
        "0 1 1 2 3 5 8 13\n",
        "\n",
        "Explanation: All Fibonacci numbers up to the number 15 is printed separated by spaces."
      ],
      "metadata": {
        "id": "MvHt8FT8Wi7f"
      }
    },
    {
      "cell_type": "code",
      "source": [
        "#task_25\n",
        "fibonacci = int(input(\"Enter the number: \"))\n",
        "first_num = 0\n",
        "second_num = 1\n",
        "sum = 0\n",
        "\n",
        "while sum <= fibonacci:\n",
        "  print(sum,end=\" \")\n",
        "  first_num = second_num\n",
        "  second_num = sum\n",
        "  sum = first_num + second_num"
      ],
      "metadata": {
        "id": "2Zlb_UX2a81P",
        "colab": {
          "base_uri": "https://localhost:8080/"
        },
        "outputId": "ef66f44f-84cf-4709-c979-216d9ef061f5"
      },
      "execution_count": null,
      "outputs": [
        {
          "output_type": "stream",
          "name": "stdout",
          "text": [
            "Enter the number: 10\n",
            "0 1 1 2 3 5 8 "
          ]
        }
      ]
    },
    {
      "cell_type": "markdown",
      "source": [
        "Task 26\n",
        "\n",
        "Write a python program that converts a decimal integer number to a binary number.\n",
        "\n",
        "Hint: A decimal can be converted to a binary number by keeping track of the remainders after each division of that number by 2.\n",
        "\n",
        "Example 1:\n",
        "\n",
        "For example, to convert 11 to a binary number, we can try the following approach.\n",
        "\n",
        "11 // 2 = 5 (Remainder 1)\n",
        "\n",
        "5 // 2 = 2 (Remainder 1)\n",
        "\n",
        "2 // 2 = 1 (Remainder 0)\n",
        "\n",
        "1 // 2 = 0 (Remainder 1)\n",
        "\n",
        "Now, taking the remainders from bottom to top gives us the binary number which is 1011. \n",
        "\n",
        "Binary of 11 is 1011.\n",
        "Sample Input 1:\n",
        "\n",
        "11\n",
        "\n",
        "Sample Output 1:\n",
        "\n",
        "1011\n",
        "\n",
        "Example 2:\n",
        "\n",
        "Similarly, to convert 13 to a binary number:\n",
        "\n",
        "13 // 2 = 6 (Remainder 1)\n",
        "\n",
        "6 // 2 = 3 (Remainder 0)\n",
        "\n",
        "3 // 2 = 1 (Remainder 1)\n",
        "\n",
        "1 // 2 = 0 (Remainder 1)\n",
        "\n",
        "Again, taking the remainders from the bottom to top, which is 1101 gives us the binary number. \n",
        "\n",
        "Binary of 13 is 1101.\n",
        "\n",
        "Sample Input 2:\n",
        "\n",
        "13\n",
        "\n",
        "Sample Output 2:\n",
        "\n",
        "1101\n",
        "\n"
      ],
      "metadata": {
        "id": "zgpMweXcrahp"
      }
    },
    {
      "cell_type": "code",
      "source": [
        "#task_26\n",
        "num = int(input(\"Please enter a number: \"))\n",
        "new = \"\"\n",
        "while num:\n",
        "  new = str(num % 2) + new\n",
        "  num = num // 2\n",
        "print(new)"
      ],
      "metadata": {
        "colab": {
          "base_uri": "https://localhost:8080/"
        },
        "id": "pFm-iWT_ziEf",
        "outputId": "7be20f19-f840-44ca-f7cf-a0978ec0bbea"
      },
      "execution_count": null,
      "outputs": [
        {
          "output_type": "stream",
          "name": "stdout",
          "text": [
            "Please enter a number: 13\n",
            "1101\n"
          ]
        }
      ]
    },
    {
      "cell_type": "markdown",
      "source": [
        "Task 27\n",
        "\n",
        "Write a python program that converts a binary number to a decimal integer number after taking the binary number as an input from the user.\n",
        "\n",
        "Note: A binary number can be converted to its corresponding decimal number by multiplying each binary digit with a power of 2, where the power denotes the position of the binary digit\n",
        "\n",
        "Example 1:\n",
        "\n",
        "For example, to convert 1010 to decimal, we can do this\n",
        "\n",
        "2^3 * 1 + 2^2 * 0 + 2^1 * 1 + 2^0 * 0 = 10\n",
        "\n",
        "Sample Input 1:\n",
        "\n",
        "1010\n",
        "\n",
        "Sample Output 1:\n",
        "\n",
        "10\n",
        "\n",
        "Example 2:\n",
        "\n",
        "So, to convert 11101, we can do this\n",
        "\n",
        "2^4 * 1 + 2^3 * 1 + 2^2 * 1 + 2^1 * 0 + 2^0 * 1 = 29\n",
        "\n",
        "Sample Input 2:\n",
        "\n",
        "11101\n",
        "\n",
        "Sample Output 2:\n",
        "\n",
        "29\n"
      ],
      "metadata": {
        "id": "JUxSlb3V-tLc"
      }
    },
    {
      "cell_type": "code",
      "source": [
        "#task_27\n",
        "bin_num = int(input(\"Enter a binary number: \"))\n",
        "dec_num = 0\n",
        "i = 1\n",
        "while bin_num != 0:\n",
        "    rem = bin_num % 10\n",
        "    dec_num += rem*i\n",
        "    i = i*2\n",
        "    bin_num = int(bin_num/10)\n",
        "print(dec_num)"
      ],
      "metadata": {
        "colab": {
          "base_uri": "https://localhost:8080/"
        },
        "id": "OQyddA8rBCyX",
        "outputId": "2d5e9717-9ef4-46cd-f591-d9acf888bd1a"
      },
      "execution_count": null,
      "outputs": [
        {
          "output_type": "stream",
          "name": "stdout",
          "text": [
            "Enter a binary number: 1010\n",
            "10\n"
          ]
        }
      ]
    },
    {
      "cell_type": "markdown",
      "source": [
        "Task 28\n",
        "\n",
        "Write a Python program that asks the user for a range (a starting number and an ending number) and then counts how many numbers are prime numbers and how many numbers are perfect numbers between that range. It also prints those numbers in the format shown in the output of the example given below.\n",
        "\n",
        "Hint (1): We may declare two strings/lists to store the prime and perfect numbers. Inside the loop, we check for prime and perfect numbers and add them to respective string/list besides counting them.\n",
        "\n",
        "Hint (2): We may need to convert numbers in String to integers for checking and calculations. We may again need to convert numbers to Strings for storing and printing as the outputs shown in the example below.\n",
        "\n",
        "Example: If the user gives us a range of between 2 and 6, there are 3 prime numbers (2, 3, 5) and 1 perfect number (6) in that range.\n",
        "\n",
        "Input:\n",
        "\n",
        "2\n",
        "\n",
        "6\n",
        "\n",
        "Output:\n",
        "\n",
        "Between 2 and 6,\n",
        "\n",
        "Found 3 prime numbers\n",
        "\n",
        "Found 1 perfect number\n",
        "\n",
        "Prime numbers: 2, 3, 5\n",
        "\n",
        "Perfect number: 6\n"
      ],
      "metadata": {
        "id": "d-pBXkNmC5Wl"
      }
    },
    {
      "cell_type": "code",
      "source": [
        "#task_28\n",
        "num_1 = int(input(\"Enter the first number: \"))\n",
        "num_2 = int(input(\"Enter the second number: \"))\n",
        "counter_1 = 0\n",
        "counter_2 = 0\n",
        "prime_num = []\n",
        "perfect_num = []\n",
        "print(f\"Between {num_1} and {num_2},\")    \n",
        "for i in range (num_1,num_2):\n",
        "  counter = 0\n",
        "  for j in range (2,i):\n",
        "    if i%j == 0:\n",
        "      counter += 1\n",
        "  if counter == 0:\n",
        "    counter_1 += 1\n",
        "    prime_num.append(i)\n",
        "print(f\"Found {counter_1} prime number\")\n",
        "for p in range (num_1,num_2+1):\n",
        "  sum = 0\n",
        "  for q in range (1,p):\n",
        "    if p%q == 0:   \n",
        "      sum += q \n",
        "  if sum == p:\n",
        "    counter_2 = 1\n",
        "    perfect_num.append(p)\n",
        "print(f\"Found {counter_2} perfect number\")    \n",
        "print(\"Prime numbers:\",prime_num)    \n",
        "print(\"Perfect numbers:\",perfect_num)    "
      ],
      "metadata": {
        "colab": {
          "base_uri": "https://localhost:8080/"
        },
        "id": "aDFpXJQuu3Xx",
        "outputId": "5aa5e1e2-7c61-4ad6-ff6b-09b32acd757a"
      },
      "execution_count": 10,
      "outputs": [
        {
          "output_type": "stream",
          "name": "stdout",
          "text": [
            "Enter the first number: 2\n",
            "Enter the second number: 6\n",
            "Between 2 and 6,\n",
            "Found 3 prime number\n",
            "Found 1 perfect number\n",
            "Prime numbers: [2, 3, 5]\n",
            "Perfect numbers: [6]\n"
          ]
        }
      ]
    }
  ]
}